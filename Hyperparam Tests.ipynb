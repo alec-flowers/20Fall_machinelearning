{
 "cells": [
  {
   "cell_type": "code",
   "execution_count": 166,
   "metadata": {},
   "outputs": [],
   "source": [
    "a = {'lambda': [1,2,3,4],\n",
    "'gamma': [.1, .2, .3, .4],\n",
    "    'beta': ['a','b']}"
   ]
  },
  {
   "cell_type": "code",
   "execution_count": 150,
   "metadata": {},
   "outputs": [],
   "source": [
    "class ParameterGrid:\n",
    "    def __init__(self, grid):\n",
    "        grid = [grid]\n",
    "        self.grid = grid\n",
    "\n",
    "    def __iter__(self):\n",
    "        \"\"\"Iterate over the points in the grid.\n",
    "        Returns\n",
    "        -------\n",
    "        params : iterator over dict of str to any\n",
    "            Yields dictionaries mapping each estimator parameter to one of its\n",
    "            allowed values.\n",
    "        \"\"\"\n",
    "        for p in self.grid:\n",
    "            # Always sort the keys of a dictionary, for reproducibility\n",
    "            items = sorted(p.items())\n",
    "            if not items:\n",
    "                yield {}\n",
    "            else:\n",
    "                keys, values = zip(*items)\n",
    "                for v in product(*values):\n",
    "                    params = dict(zip(keys, v))\n",
    "                    yield params\n",
    "\n",
    "\n",
    "def product(*args, repeat=1):\n",
    "    \"\"\"\n",
    "    Creates all possible combinations between lists given in *args:\n",
    "    product('ABCD', 'xy') --> Ax Ay Bx By Cx Cy Dx Dy\n",
    "    product(range(2), repeat=3) --> 000 001 010 011 100 101 110 111\n",
    "    \"\"\"\n",
    "    pools = [tuple(pool) for pool in args] * repeat\n",
    "    result = [[]]\n",
    "    for pool in pools:\n",
    "        result = [x + [y] for x in result for y in pool]\n",
    "    for prod in result:\n",
    "        yield tuple(prod)\n"
   ]
  },
  {
   "cell_type": "code",
   "execution_count": 168,
   "metadata": {},
   "outputs": [],
   "source": [
    "items = a.items()"
   ]
  },
  {
   "cell_type": "code",
   "execution_count": 169,
   "metadata": {},
   "outputs": [],
   "source": [
    "keys, values = zip(*items)"
   ]
  },
  {
   "cell_type": "code",
   "execution_count": 192,
   "metadata": {},
   "outputs": [
    {
     "data": {
      "text/plain": [
       "([1, 2, 3, 4], [0.1, 0.2, 0.3, 0.4], ['a', 'b'])"
      ]
     },
     "execution_count": 192,
     "metadata": {},
     "output_type": "execute_result"
    }
   ],
   "source": [
    "values"
   ]
  },
  {
   "cell_type": "code",
   "execution_count": 194,
   "metadata": {
    "scrolled": true
   },
   "outputs": [
    {
     "name": "stdout",
     "output_type": "stream",
     "text": [
      "([1, 2, 3, 4],)\n",
      "([0.1, 0.2, 0.3, 0.4],)\n",
      "(['a', 'b'],)\n"
     ]
    }
   ],
   "source": [
    "for i in product(values):\n",
    "    print(i)"
   ]
  },
  {
   "cell_type": "code",
   "execution_count": 195,
   "metadata": {},
   "outputs": [],
   "source": [
    "a = {'lambda': [1,2,3,4],\n",
    "        'gamma': [.1, .2, .3, .4],\n",
    "        'beta': ['a','b']}"
   ]
  },
  {
   "cell_type": "code",
   "execution_count": 196,
   "metadata": {},
   "outputs": [],
   "source": [
    "def hyperparam_combination(hp):\n",
    "    hp_comb = []\n",
    "    key_list = list(hp.keys())\n",
    "    value_list = list(hp.values())\n",
    "    \n",
    "    #unpacks values in value_list so product can make combinations\n",
    "    for combo in product(*value_list):\n",
    "        \n",
    "        #turn unpacked values back into dictinary and appends to list\n",
    "        hp_comb.append(dict(zip(key_list,combo)))\n",
    "        \n",
    "    return hp_comb"
   ]
  },
  {
   "cell_type": "code",
   "execution_count": 197,
   "metadata": {},
   "outputs": [
    {
     "name": "stdout",
     "output_type": "stream",
     "text": [
      "{'lambda': 1, 'gamma': 0.1, 'beta': 'a'}\n",
      "{'lambda': 1, 'gamma': 0.1, 'beta': 'b'}\n",
      "{'lambda': 1, 'gamma': 0.2, 'beta': 'a'}\n",
      "{'lambda': 1, 'gamma': 0.2, 'beta': 'b'}\n",
      "{'lambda': 1, 'gamma': 0.3, 'beta': 'a'}\n",
      "{'lambda': 1, 'gamma': 0.3, 'beta': 'b'}\n",
      "{'lambda': 1, 'gamma': 0.4, 'beta': 'a'}\n",
      "{'lambda': 1, 'gamma': 0.4, 'beta': 'b'}\n",
      "{'lambda': 2, 'gamma': 0.1, 'beta': 'a'}\n",
      "{'lambda': 2, 'gamma': 0.1, 'beta': 'b'}\n",
      "{'lambda': 2, 'gamma': 0.2, 'beta': 'a'}\n",
      "{'lambda': 2, 'gamma': 0.2, 'beta': 'b'}\n",
      "{'lambda': 2, 'gamma': 0.3, 'beta': 'a'}\n",
      "{'lambda': 2, 'gamma': 0.3, 'beta': 'b'}\n",
      "{'lambda': 2, 'gamma': 0.4, 'beta': 'a'}\n",
      "{'lambda': 2, 'gamma': 0.4, 'beta': 'b'}\n",
      "{'lambda': 3, 'gamma': 0.1, 'beta': 'a'}\n",
      "{'lambda': 3, 'gamma': 0.1, 'beta': 'b'}\n",
      "{'lambda': 3, 'gamma': 0.2, 'beta': 'a'}\n",
      "{'lambda': 3, 'gamma': 0.2, 'beta': 'b'}\n",
      "{'lambda': 3, 'gamma': 0.3, 'beta': 'a'}\n",
      "{'lambda': 3, 'gamma': 0.3, 'beta': 'b'}\n",
      "{'lambda': 3, 'gamma': 0.4, 'beta': 'a'}\n",
      "{'lambda': 3, 'gamma': 0.4, 'beta': 'b'}\n",
      "{'lambda': 4, 'gamma': 0.1, 'beta': 'a'}\n",
      "{'lambda': 4, 'gamma': 0.1, 'beta': 'b'}\n",
      "{'lambda': 4, 'gamma': 0.2, 'beta': 'a'}\n",
      "{'lambda': 4, 'gamma': 0.2, 'beta': 'b'}\n",
      "{'lambda': 4, 'gamma': 0.3, 'beta': 'a'}\n",
      "{'lambda': 4, 'gamma': 0.3, 'beta': 'b'}\n",
      "{'lambda': 4, 'gamma': 0.4, 'beta': 'a'}\n",
      "{'lambda': 4, 'gamma': 0.4, 'beta': 'b'}\n"
     ]
    }
   ],
   "source": [
    "for i in hyperparam_combination(a):\n",
    "    print(i)"
   ]
  },
  {
   "cell_type": "code",
   "execution_count": 175,
   "metadata": {},
   "outputs": [
    {
     "name": "stdout",
     "output_type": "stream",
     "text": [
      "[{}, {'lambda': 1}, {'lambda': 2}, {'lambda': 3}, {'lambda': 4}]\n",
      "[{}, {'lambda': 4}, {'lambda': 2}, {'lambda': 3}, {'lambda': 4}]\n",
      "[{}, {'lambda': 4}, {'lambda': 4}, {'lambda': 3}, {'lambda': 4}]\n",
      "[{}, {'lambda': 4}, {'lambda': 4}, {'lambda': 4}, {'lambda': 4}]\n",
      "[{}, {'lambda': 4}, {'lambda': 4}, {'lambda': 4}, {'lambda': 4}]\n",
      "[{'gamma': 0.4}, {'lambda': 4}, {'lambda': 4}, {'lambda': 4}, {'lambda': 4}]\n",
      "[{'gamma': 0.4}, {'lambda': 4, 'gamma': 0.4}, {'lambda': 4}, {'lambda': 4}, {'lambda': 4}]\n",
      "[{'gamma': 0.4}, {'lambda': 4, 'gamma': 0.4}, {'lambda': 4, 'gamma': 0.4}, {'lambda': 4}, {'lambda': 4}]\n",
      "[{'gamma': 0.4}, {'lambda': 4, 'gamma': 0.4}, {'lambda': 4, 'gamma': 0.4}, {'lambda': 4, 'gamma': 0.4}, {'lambda': 4}]\n",
      "[{'gamma': 0.4}, {'lambda': 4, 'gamma': 0.4}, {'lambda': 4, 'gamma': 0.4}, {'lambda': 4, 'gamma': 0.4}, {'lambda': 4, 'gamma': 0.4}]\n",
      "[{'gamma': 0.4, 'beta': 'b'}, {'lambda': 4, 'gamma': 0.4}, {'lambda': 4, 'gamma': 0.4}, {'lambda': 4, 'gamma': 0.4}, {'lambda': 4, 'gamma': 0.4}]\n",
      "[{'gamma': 0.4, 'beta': 'b'}, {'lambda': 4, 'gamma': 0.4, 'beta': 'b'}, {'lambda': 4, 'gamma': 0.4}, {'lambda': 4, 'gamma': 0.4}, {'lambda': 4, 'gamma': 0.4}]\n",
      "[{'gamma': 0.4, 'beta': 'b'}, {'lambda': 4, 'gamma': 0.4, 'beta': 'b'}, {'lambda': 4, 'gamma': 0.4, 'beta': 'b'}, {'lambda': 4, 'gamma': 0.4}, {'lambda': 4, 'gamma': 0.4}]\n",
      "[{'gamma': 0.4, 'beta': 'b'}, {'lambda': 4, 'gamma': 0.4, 'beta': 'b'}, {'lambda': 4, 'gamma': 0.4, 'beta': 'b'}, {'lambda': 4, 'gamma': 0.4, 'beta': 'b'}, {'lambda': 4, 'gamma': 0.4}]\n",
      "[{'gamma': 0.4, 'beta': 'b'}, {'lambda': 4, 'gamma': 0.4, 'beta': 'b'}, {'lambda': 4, 'gamma': 0.4, 'beta': 'b'}, {'lambda': 4, 'gamma': 0.4, 'beta': 'b'}, {'lambda': 4, 'gamma': 0.4, 'beta': 'b'}]\n"
     ]
    }
   ],
   "source": [
    "first_list = [{}]\n",
    "l = []\n",
    "broken = {}\n",
    "first = 0\n",
    "for key, value in a.items():\n",
    "    for d in first_list:\n",
    "        for i in value:\n",
    "            if first == 0:\n",
    "                first_list.append({key: i})\n",
    "            else:\n",
    "                d.update({key: i})\n",
    "        print(first_list)\n",
    "        first+=1"
   ]
  },
  {
   "cell_type": "code",
   "execution_count": 149,
   "metadata": {},
   "outputs": [
    {
     "data": {
      "text/plain": [
       "[{'gamma': 0.4, 'beta': 'b'},\n",
       " {'lambda': 4, 'gamma': 0.4, 'beta': 'b'},\n",
       " {'lambda': 4, 'gamma': 0.4, 'beta': 'b'},\n",
       " {'lambda': 4, 'gamma': 0.4, 'beta': 'b'},\n",
       " {'lambda': 4, 'gamma': 0.4, 'beta': 'b'}]"
      ]
     },
     "execution_count": 149,
     "metadata": {},
     "output_type": "execute_result"
    }
   ],
   "source": [
    "first_list"
   ]
  },
  {
   "cell_type": "code",
   "execution_count": 113,
   "metadata": {},
   "outputs": [
    {
     "data": {
      "text/plain": [
       "[['lambda', 1],\n",
       " ['lambda', 2],\n",
       " ['lambda', 3],\n",
       " ['lambda', 4],\n",
       " ['gamma', 0.1],\n",
       " ['gamma', 0.2],\n",
       " ['gamma', 0.3],\n",
       " ['gamma', 0.4],\n",
       " ['beta', 'a'],\n",
       " ['beta', 'b']]"
      ]
     },
     "execution_count": 113,
     "metadata": {},
     "output_type": "execute_result"
    }
   ],
   "source": [
    "broken"
   ]
  },
  {
   "cell_type": "code",
   "execution_count": null,
   "metadata": {},
   "outputs": [],
   "source": []
  },
  {
   "cell_type": "code",
   "execution_count": 117,
   "metadata": {},
   "outputs": [
    {
     "ename": "KeyError",
     "evalue": "0",
     "output_type": "error",
     "traceback": [
      "\u001b[0;31m---------------------------------------------------------------------------\u001b[0m",
      "\u001b[0;31mKeyError\u001b[0m                                  Traceback (most recent call last)",
      "\u001b[0;32m<ipython-input-117-5f0a4c21e338>\u001b[0m in \u001b[0;36m<module>\u001b[0;34m\u001b[0m\n\u001b[1;32m      2\u001b[0m \u001b[0;32mfor\u001b[0m \u001b[0mmain\u001b[0m \u001b[0;32min\u001b[0m \u001b[0mrange\u001b[0m\u001b[0;34m(\u001b[0m\u001b[0ml\u001b[0m\u001b[0;34m)\u001b[0m\u001b[0;34m:\u001b[0m\u001b[0;34m\u001b[0m\u001b[0;34m\u001b[0m\u001b[0m\n\u001b[1;32m      3\u001b[0m     \u001b[0;32mfor\u001b[0m \u001b[0mi\u001b[0m \u001b[0;32min\u001b[0m \u001b[0mrange\u001b[0m\u001b[0;34m(\u001b[0m\u001b[0mmain\u001b[0m\u001b[0;34m+\u001b[0m\u001b[0;36m1\u001b[0m\u001b[0;34m,\u001b[0m\u001b[0ml\u001b[0m\u001b[0;34m)\u001b[0m\u001b[0;34m:\u001b[0m\u001b[0;34m\u001b[0m\u001b[0;34m\u001b[0m\u001b[0m\n\u001b[0;32m----> 4\u001b[0;31m         \u001b[0;32mif\u001b[0m \u001b[0mbroken\u001b[0m\u001b[0;34m[\u001b[0m\u001b[0mi\u001b[0m\u001b[0;34m]\u001b[0m\u001b[0;34m[\u001b[0m\u001b[0;36m0\u001b[0m\u001b[0;34m]\u001b[0m \u001b[0;32mnot\u001b[0m \u001b[0;32min\u001b[0m \u001b[0mbroken\u001b[0m\u001b[0;34m[\u001b[0m\u001b[0mmain\u001b[0m\u001b[0;34m]\u001b[0m\u001b[0;34m[\u001b[0m\u001b[0;36m0\u001b[0m\u001b[0;34m]\u001b[0m\u001b[0;34m:\u001b[0m\u001b[0;34m\u001b[0m\u001b[0;34m\u001b[0m\u001b[0m\n\u001b[0m\u001b[1;32m      5\u001b[0m             \u001b[0mbroken\u001b[0m\u001b[0;34m[\u001b[0m\u001b[0mmain\u001b[0m\u001b[0;34m]\u001b[0m \u001b[0;34m=\u001b[0m \u001b[0mdict\u001b[0m\u001b[0;34m(\u001b[0m\u001b[0mzip\u001b[0m\u001b[0;34m(\u001b[0m\u001b[0mbroken\u001b[0m\u001b[0;34m[\u001b[0m\u001b[0mmain\u001b[0m\u001b[0;34m]\u001b[0m\u001b[0;34m,\u001b[0m\u001b[0mbroken\u001b[0m\u001b[0;34m[\u001b[0m\u001b[0mi\u001b[0m\u001b[0;34m]\u001b[0m\u001b[0;34m[\u001b[0m\u001b[0;36m0\u001b[0m\u001b[0;34m]\u001b[0m\u001b[0;34m)\u001b[0m\u001b[0;34m)\u001b[0m\u001b[0;34m\u001b[0m\u001b[0;34m\u001b[0m\u001b[0m\n",
      "\u001b[0;31mKeyError\u001b[0m: 0"
     ]
    }
   ],
   "source": [
    "l = len(broken)\n",
    "for main in range(l):\n",
    "    for i in range(main+1,l):\n",
    "        if broken[i][0] not in broken[main][0]:\n",
    "            broken[main] = dict(zip(broken[main],broken[i][0]))"
   ]
  },
  {
   "cell_type": "code",
   "execution_count": null,
   "metadata": {},
   "outputs": [],
   "source": []
  },
  {
   "cell_type": "code",
   "execution_count": 105,
   "metadata": {},
   "outputs": [],
   "source": [
    "f = [0,1,2,3]"
   ]
  },
  {
   "cell_type": "code",
   "execution_count": 106,
   "metadata": {},
   "outputs": [],
   "source": [
    "f[2] = 5"
   ]
  },
  {
   "cell_type": "code",
   "execution_count": 107,
   "metadata": {},
   "outputs": [
    {
     "data": {
      "text/plain": [
       "[0, 1, 5, 3]"
      ]
     },
     "execution_count": 107,
     "metadata": {},
     "output_type": "execute_result"
    }
   ],
   "source": [
    "f"
   ]
  },
  {
   "cell_type": "code",
   "execution_count": 102,
   "metadata": {},
   "outputs": [
    {
     "data": {
      "text/plain": [
       "[{'lambda': 1, 'gamma': 0.1},\n",
       " {'lambda': 2, 'gamma': 0.1},\n",
       " {'lambda': 3, 'gamma': 0.1},\n",
       " {'lambda': 4, 'gamma': 0.1},\n",
       " {'gamma': 0.1, 'lambda': 2},\n",
       " {'gamma': 0.1, 'lambda': 2},\n",
       " {'gamma': 0.1, 'lambda': 2},\n",
       " {'gamma': 0.1, 'lambda': 2}]"
      ]
     },
     "execution_count": 102,
     "metadata": {},
     "output_type": "execute_result"
    }
   ],
   "source": [
    "all_list"
   ]
  },
  {
   "cell_type": "code",
   "execution_count": 51,
   "metadata": {},
   "outputs": [],
   "source": [
    "if all_list[1].get(key,0) in all_list[0]:\n",
    "    print('True')"
   ]
  },
  {
   "cell_type": "code",
   "execution_count": 59,
   "metadata": {},
   "outputs": [],
   "source": [
    "all_list[1].get(key)"
   ]
  },
  {
   "cell_type": "code",
   "execution_count": 41,
   "metadata": {},
   "outputs": [],
   "source": [
    "b = {'a': 1}"
   ]
  },
  {
   "cell_type": "code",
   "execution_count": 43,
   "metadata": {},
   "outputs": [],
   "source": [
    "b['a'] = 2"
   ]
  },
  {
   "cell_type": "code",
   "execution_count": 44,
   "metadata": {},
   "outputs": [
    {
     "data": {
      "text/plain": [
       "{'a': 2}"
      ]
     },
     "execution_count": 44,
     "metadata": {},
     "output_type": "execute_result"
    }
   ],
   "source": [
    "b"
   ]
  },
  {
   "cell_type": "code",
   "execution_count": null,
   "metadata": {},
   "outputs": [],
   "source": []
  }
 ],
 "metadata": {
  "kernelspec": {
   "display_name": "Python 3",
   "language": "python",
   "name": "python3"
  },
  "language_info": {
   "codemirror_mode": {
    "name": "ipython",
    "version": 3
   },
   "file_extension": ".py",
   "mimetype": "text/x-python",
   "name": "python",
   "nbconvert_exporter": "python",
   "pygments_lexer": "ipython3",
   "version": "3.8.5"
  }
 },
 "nbformat": 4,
 "nbformat_minor": 4
}
