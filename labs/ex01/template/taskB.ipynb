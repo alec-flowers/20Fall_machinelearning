{
 "cells": [
  {
   "cell_type": "code",
   "execution_count": 20,
   "metadata": {},
   "outputs": [
    {
     "name": "stdout",
     "output_type": "stream",
     "text": [
      "The autoreload extension is already loaded. To reload it, use:\n",
      "  %reload_ext autoreload\n"
     ]
    }
   ],
   "source": [
    "%matplotlib inline\n",
    "import numpy as np\n",
    "import matplotlib.pyplot as plt\n",
    "%load_ext autoreload\n",
    "%autoreload 2"
   ]
  },
  {
   "cell_type": "markdown",
   "metadata": {},
   "source": [
    "Data Generation\n",
    "==="
   ]
  },
  {
   "cell_type": "code",
   "execution_count": 21,
   "metadata": {
    "scrolled": true
   },
   "outputs": [
    {
     "name": "stdout",
     "output_type": "stream",
     "text": [
      "[[0.77132064 0.02075195]\n",
      " [0.63364823 0.74880388]\n",
      " [0.49850701 0.22479665]\n",
      " [0.19806286 0.76053071]] \n",
      "\n",
      " [[0.16911084 0.08833981]\n",
      " [0.68535982 0.95339335]\n",
      " [0.00394827 0.51219226]\n",
      " [0.81262096 0.61252607]\n",
      " [0.72175532 0.29187607]]\n"
     ]
    }
   ],
   "source": [
    "np.random.seed(10)\n",
    "p, q = (np.random.rand(i, 2) for i in (4, 5))\n",
    "p_big, q_big = (np.random.rand(i, 80) for i in (100, 120))\n",
    "\n",
    "print(p, \"\\n\\n\", q)"
   ]
  },
  {
   "cell_type": "code",
   "execution_count": 22,
   "metadata": {
    "scrolled": true
   },
   "outputs": [
    {
     "name": "stdout",
     "output_type": "stream",
     "text": [
      "(100, 80)\n"
     ]
    }
   ],
   "source": [
    "print(p_big.shape)"
   ]
  },
  {
   "cell_type": "markdown",
   "metadata": {},
   "source": [
    "Solution\n",
    "==="
   ]
  },
  {
   "cell_type": "code",
   "execution_count": 23,
   "metadata": {},
   "outputs": [],
   "source": [
    "def euclidian_distance(q1,q2,p1,p2):\n",
    "    return np.sqrt(np.square(q1-p1) + np.square(q2-p2))\n",
    "\n",
    "def euclidian_distance_vec(x1, x2):\n",
    "    return np.sqrt(np.sum(np.square(x1 - x2)))\n",
    "\n",
    "def naive(p, q):\n",
    "    ''' fill your code in here...\n",
    "    '''\n",
    "    array_list = []\n",
    "    for coord1 in p:\n",
    "        row_list = []\n",
    "        for coord2 in q:\n",
    "            dist = euclidian_distance_vec(coord1, coord2)\n",
    "            row_list.append(dist)\n",
    "        array_list.append(row_list)\n",
    "    return np.array(array_list)"
   ]
  },
  {
   "cell_type": "code",
   "execution_count": 24,
   "metadata": {},
   "outputs": [],
   "source": [
    "pairwise = naive(p,q)\n",
    "pairwise1 = naive(p_big,q_big)\n",
    "\n",
    "#should be a \n",
    "assert pairwise.shape[0] == p.shape[0]\n",
    "assert pairwise.shape[1] == q.shape[0]\n",
    "\n",
    "assert pairwise1.shape[0] == p_big.shape[0]\n",
    "assert pairwise1.shape[1] == q_big.shape[0]"
   ]
  },
  {
   "cell_type": "code",
   "execution_count": 60,
   "metadata": {},
   "outputs": [
    {
     "data": {
      "text/plain": [
       "array([[3.5463562 , 3.565697  , 3.49523531, ..., 3.45806434, 3.45665815,\n",
       "        3.81388442],\n",
       "       [4.00188263, 3.53214057, 3.27800283, ..., 3.71310672, 3.95344582,\n",
       "        3.59536741],\n",
       "       [4.17522292, 3.56879999, 3.41938894, ..., 4.02732215, 3.92961253,\n",
       "        3.58403141],\n",
       "       ...,\n",
       "       [3.62521939, 3.45146476, 3.80998935, ..., 4.28665811, 3.94376699,\n",
       "        3.57750727],\n",
       "       [3.74235978, 3.66972067, 3.58013781, ..., 3.84275737, 3.61753849,\n",
       "        3.699406  ],\n",
       "       [3.94677398, 3.3584521 , 3.90542048, ..., 3.52062854, 4.00497389,\n",
       "        3.44475958]])"
      ]
     },
     "execution_count": 60,
     "metadata": {},
     "output_type": "execute_result"
    }
   ],
   "source": [
    "pairwise1"
   ]
  },
  {
   "cell_type": "markdown",
   "metadata": {},
   "source": [
    "### Use matching indices\n",
    "\n",
    "Instead of iterating through indices, one can use them directly to parallelize the operations with Numpy."
   ]
  },
  {
   "cell_type": "code",
   "execution_count": 25,
   "metadata": {
    "scrolled": true
   },
   "outputs": [
    {
     "name": "stdout",
     "output_type": "stream",
     "text": [
      "[[0 0 0 0 0]\n",
      " [1 1 1 1 1]\n",
      " [2 2 2 2 2]\n",
      " [3 3 3 3 3]]\n",
      "\n",
      "[[0 1 2 3 4]\n",
      " [0 1 2 3 4]\n",
      " [0 1 2 3 4]\n",
      " [0 1 2 3 4]]\n"
     ]
    }
   ],
   "source": [
    "rows, cols = np.indices((p.shape[0], q.shape[0]))\n",
    "print(rows, end='\\n\\n')\n",
    "print(cols)"
   ]
  },
  {
   "cell_type": "code",
   "execution_count": 44,
   "metadata": {},
   "outputs": [],
   "source": [
    "def with_indices(p, q):\n",
    "    ''' fill your code in here...\n",
    "    '''\n",
    "    rows, cols = np.indices((p.shape[0],q.shape[0]))\n",
    "    \n",
    "    p_ravel = p[rows.ravel()]\n",
    "    q_ravel = q[cols.ravel()]\n",
    "    pairwise_list = []\n",
    "    \n",
    "    for i in range(0,p_ravel.shape[0]):\n",
    "        pairwise_list.append(euclidian_distance_vec(p_ravel,q_ravel))\n",
    "\n",
    "    return np.array(pairwise_list).reshape((p.shape[0],q.shape[0]))"
   ]
  },
  {
   "cell_type": "code",
   "execution_count": 53,
   "metadata": {},
   "outputs": [],
   "source": [
    "def with_indices(p, q):\n",
    "    ''' fill your code in here...\n",
    "    '''\n",
    "    rows, cols = np.indices((p.shape[0],q.shape[0]))\n",
    "    \n",
    "    p_ravel = p[rows.ravel()]\n",
    "    q_ravel = q[cols.ravel()]\n",
    "    \n",
    "    raveled = np.sqrt(np.sum(np.square(p_ravel - q_ravel),axis = 1))\n",
    "    \n",
    "    return raveled.reshape((p.shape[0],q.shape[0]))"
   ]
  },
  {
   "cell_type": "code",
   "execution_count": 54,
   "metadata": {},
   "outputs": [
    {
     "data": {
      "text/plain": [
       "array([[3.5463562 , 3.565697  , 3.49523531, ..., 3.45806434, 3.45665815,\n",
       "        3.81388442],\n",
       "       [4.00188263, 3.53214057, 3.27800283, ..., 3.71310672, 3.95344582,\n",
       "        3.59536741],\n",
       "       [4.17522292, 3.56879999, 3.41938894, ..., 4.02732215, 3.92961253,\n",
       "        3.58403141],\n",
       "       ...,\n",
       "       [3.62521939, 3.45146476, 3.80998935, ..., 4.28665811, 3.94376699,\n",
       "        3.57750727],\n",
       "       [3.74235978, 3.66972067, 3.58013781, ..., 3.84275737, 3.61753849,\n",
       "        3.699406  ],\n",
       "       [3.94677398, 3.3584521 , 3.90542048, ..., 3.52062854, 4.00497389,\n",
       "        3.44475958]])"
      ]
     },
     "execution_count": 54,
     "metadata": {},
     "output_type": "execute_result"
    }
   ],
   "source": [
    "with_indices(p_big,q_big)"
   ]
  },
  {
   "cell_type": "markdown",
   "metadata": {},
   "source": [
    "### Use a library\n",
    "\n",
    "`scipy` is the equivalent of matlab toolboxes and have a lot to offer. Actually the pairwise computation is part of the library through the `spatial` module."
   ]
  },
  {
   "cell_type": "code",
   "execution_count": 55,
   "metadata": {},
   "outputs": [],
   "source": [
    "from scipy.spatial.distance import cdist\n",
    "\n",
    "def scipy_version(p, q):\n",
    "    return cdist(p, q)"
   ]
  },
  {
   "cell_type": "code",
   "execution_count": 56,
   "metadata": {},
   "outputs": [
    {
     "data": {
      "text/plain": [
       "array([[0.60599073, 0.93659449, 0.91124856, 0.59321356, 0.27561751],\n",
       "       [0.80746999, 0.21102354, 0.67268649, 0.22495084, 0.46534491],\n",
       "       [0.35654215, 0.75217493, 0.57200052, 0.49900068, 0.23310825],\n",
       "       [0.67281411, 0.52407472, 0.31520226, 0.63212897, 0.70277376]])"
      ]
     },
     "execution_count": 56,
     "metadata": {},
     "output_type": "execute_result"
    }
   ],
   "source": [
    "scipy_version(p,q)"
   ]
  },
  {
   "cell_type": "markdown",
   "metadata": {},
   "source": [
    "### Numpy Magic"
   ]
  },
  {
   "cell_type": "code",
   "execution_count": 57,
   "metadata": {},
   "outputs": [],
   "source": [
    "def tensor_broadcasting(p, q):\n",
    "    return np.sqrt(np.sum((p[:,np.newaxis,:]-q[np.newaxis,:,:])**2, axis=2))"
   ]
  },
  {
   "cell_type": "markdown",
   "metadata": {},
   "source": [
    "# Compare methods"
   ]
  },
  {
   "cell_type": "code",
   "execution_count": 58,
   "metadata": {},
   "outputs": [
    {
     "name": "stdout",
     "output_type": "stream",
     "text": [
      "70.8 ms ± 966 µs per loop (mean ± std. dev. of 7 runs, 10 loops each)\n",
      "8.21 ms ± 177 µs per loop (mean ± std. dev. of 7 runs, 100 loops each)\n",
      "627 µs ± 5.35 µs per loop (mean ± std. dev. of 7 runs, 1000 loops each)\n",
      "3 ms ± 269 µs per loop (mean ± std. dev. of 7 runs, 100 loops each)\n"
     ]
    }
   ],
   "source": [
    "methods = [naive, with_indices, scipy_version, tensor_broadcasting]\n",
    "timers = []\n",
    "for f in methods:\n",
    "    r = %timeit -o f(p_big, q_big)\n",
    "    timers.append(r)"
   ]
  },
  {
   "cell_type": "code",
   "execution_count": 59,
   "metadata": {
    "scrolled": true
   },
   "outputs": [
    {
     "data": {
      "image/png": "[encoded data removed]",
      "text/plain": [
       "<Figure size 720x432 with 1 Axes>"
      ]
     },
     "metadata": {
      "needs_background": "light"
     },
     "output_type": "display_data"
    }
   ],
   "source": [
    "plt.figure(figsize=(10,6))\n",
    "plt.bar(np.arange(len(methods)), [r.best*1000 for r in timers], log=False)  # Set log to True for logarithmic scale\n",
    "plt.xticks(np.arange(len(methods))+0.2, [f.__name__ for f in methods], rotation=30)\n",
    "plt.xlabel('Method')\n",
    "plt.ylabel('Time (ms)')\n",
    "plt.show()"
   ]
  },
  {
   "cell_type": "code",
   "execution_count": null,
   "metadata": {},
   "outputs": [],
   "source": []
  }
 ],
 "metadata": {
  "kernelspec": {
   "display_name": "Python 3",
   "language": "python",
   "name": "python3"
  },
  "language_info": {
   "codemirror_mode": {
    "name": "ipython",
    "version": 3
   },
   "file_extension": ".py",
   "mimetype": "text/x-python",
   "name": "python",
   "nbconvert_exporter": "python",
   "pygments_lexer": "ipython3",
   "version": "3.8.5"
  }
 },
 "nbformat": 4,
 "nbformat_minor": 1
}
