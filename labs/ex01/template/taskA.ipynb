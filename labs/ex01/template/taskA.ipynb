{
 "cells": [
  {
   "cell_type": "code",
   "execution_count": 1,
   "metadata": {},
   "outputs": [],
   "source": [
    "%matplotlib inline\n",
    "import numpy as np\n",
    "import matplotlib.pyplot as plt\n",
    "%load_ext autoreload\n",
    "%autoreload 2"
   ]
  },
  {
   "cell_type": "markdown",
   "metadata": {},
   "source": [
    "Data Generation\n",
    "==="
   ]
  },
  {
   "cell_type": "code",
   "execution_count": 2,
   "metadata": {},
   "outputs": [],
   "source": [
    "num_samples, num_features = 10, 5"
   ]
  },
  {
   "cell_type": "code",
   "execution_count": 27,
   "metadata": {},
   "outputs": [],
   "source": [
    "np.random.seed(11)\n",
    "data = np.random.rand(num_samples, num_features)"
   ]
  },
  {
   "cell_type": "markdown",
   "metadata": {},
   "source": [
    "Solution\n",
    "==="
   ]
  },
  {
   "cell_type": "code",
   "execution_count": 28,
   "metadata": {},
   "outputs": [
    {
     "name": "stdout",
     "output_type": "stream",
     "text": [
      "[[0.18026969 0.01947524 0.46321853 0.72493393 0.4202036 ]\n",
      " [0.4854271  0.01278081 0.48737161 0.94180665 0.85079509]\n",
      " [0.72996447 0.10873607 0.89390417 0.85715425 0.16508662]\n",
      " [0.63233401 0.02048361 0.11673727 0.31636731 0.15791231]\n",
      " [0.75897959 0.81827536 0.34462449 0.3187988  0.11166123]\n",
      " [0.08395314 0.71272594 0.5995434  0.05567368 0.47979728]\n",
      " [0.40167648 0.847979   0.71784918 0.60206405 0.55238382]\n",
      " [0.9491024  0.98667333 0.33805405 0.23987468 0.79643575]\n",
      " [0.06368643 0.36461564 0.0700228  0.31936771 0.0703826 ]\n",
      " [0.29026367 0.79010112 0.90540032 0.79262139 0.56181871]]\n"
     ]
    }
   ],
   "source": [
    "print(data)"
   ]
  },
  {
   "cell_type": "code",
   "execution_count": 29,
   "metadata": {},
   "outputs": [],
   "source": [
    "assert isinstance(data,np.ndarray)"
   ]
  },
  {
   "cell_type": "code",
   "execution_count": 30,
   "metadata": {},
   "outputs": [
    {
     "data": {
      "text/plain": [
       "0.47058736743468244"
      ]
     },
     "execution_count": 30,
     "metadata": {},
     "output_type": "execute_result"
    }
   ],
   "source": [
    "data.mean()"
   ]
  },
  {
   "cell_type": "code",
   "execution_count": 31,
   "metadata": {},
   "outputs": [
    {
     "data": {
      "text/plain": [
       "0.30518160095210684"
      ]
     },
     "execution_count": 31,
     "metadata": {},
     "output_type": "execute_result"
    }
   ],
   "source": [
    "data.std()"
   ]
  },
  {
   "cell_type": "code",
   "execution_count": 35,
   "metadata": {},
   "outputs": [
    {
     "name": "stdout",
     "output_type": "stream",
     "text": [
      "Mean:   0.45756569788586854\n",
      "Std:  0.289950658269685\n",
      "Mean:   0.46818461286267005\n",
      "Std:  0.3805479264085956\n",
      "Mean:   0.4936725812514167\n",
      "Std:  0.2757041548498087\n",
      "Mean:   0.516866243910053\n",
      "Std:  0.28823967763241476\n",
      "Mean:   0.416647701263404\n",
      "Std:  0.26820991836924285\n"
     ]
    }
   ],
   "source": [
    "def standardize(x):\n",
    "    '''\n",
    "    '''\n",
    "    assert isinstance(x,np.ndarray), 'Not an np.ndarray'\n",
    "    for i in range(0,x.shape[1]):\n",
    "        \n",
    "        mean = x[:,i].mean()\n",
    "        std = x[:,i].std()\n",
    "\n",
    "        print('Mean:  ',mean)\n",
    "        print('Std: ',std)\n",
    "\n",
    "        x[:,i] = x[:,i] - mean\n",
    "        x[:,i] = x[:,i] / std\n",
    "\n",
    "    return x\n",
    "\n",
    "std_data = standardize(data)"
   ]
  },
  {
   "cell_type": "code",
   "execution_count": 37,
   "metadata": {},
   "outputs": [],
   "source": [
    "def standardize(x):\n",
    "    '''\n",
    "    '''\n",
    "    assert isinstance(x,np.ndarray), 'Not an np.ndarray'\n",
    "    mean = x.mean(0)\n",
    "    std = x.std(0)\n",
    "    \n",
    "    x = x - mean\n",
    "    x = x / std\n",
    "\n",
    "    return x\n",
    "\n",
    "std_data = standardize(data)"
   ]
  },
  {
   "cell_type": "code",
   "execution_count": 38,
   "metadata": {
    "scrolled": true
   },
   "outputs": [
    {
     "name": "stdout",
     "output_type": "stream",
     "text": [
      "[[-0.95635585 -1.17911396 -0.11045918  0.7218565   0.01325791]\n",
      " [ 0.09609014 -1.1967055  -0.02285411  1.47426063  1.61868506]\n",
      " [ 0.93946596 -0.94455525  1.4516705   1.18057308 -0.9379261 ]\n",
      " [ 0.60275192 -1.17646417 -1.36717313 -0.69559796 -0.96467497]\n",
      " [ 1.03953511  0.91996493 -0.54060879 -0.68716233 -1.13711853]\n",
      " [-1.28853839  0.64260322  0.38400152 -1.6000315   0.23544834]\n",
      " [-0.19275423  0.99801985  0.81310562  0.29557973  0.50608166]\n",
      " [ 1.69524257  1.36247942 -0.56444028 -0.96097653  1.41601047]\n",
      " [-1.3584355  -0.27215749 -1.53661006 -0.68518859 -1.29102275]\n",
      " [-0.57700173  0.84592896  1.49336792  0.95668696  0.54125891]] \n",
      "\n",
      " [-3.33066907e-17 -4.44089210e-17  2.22044605e-17  1.11022302e-17\n",
      " -2.22044605e-17] \n",
      "\n",
      " [1. 1. 1. 1. 1.]\n"
     ]
    }
   ],
   "source": [
    "print(std_data, \"\\n\\n\", np.mean(std_data, axis=0), \"\\n\\n\", np.std(std_data, axis=0))"
   ]
  },
  {
   "cell_type": "code",
   "execution_count": 34,
   "metadata": {},
   "outputs": [
    {
     "data": {
      "text/plain": [
       "1.0"
      ]
     },
     "execution_count": 34,
     "metadata": {},
     "output_type": "execute_result"
    }
   ],
   "source": [
    "std_data.mean()\n",
    "std_data.std()"
   ]
  },
  {
   "cell_type": "code",
   "execution_count": null,
   "metadata": {},
   "outputs": [],
   "source": []
  }
 ],
 "metadata": {
  "kernelspec": {
   "display_name": "Python 3",
   "language": "python",
   "name": "python3"
  },
  "language_info": {
   "codemirror_mode": {
    "name": "ipython",
    "version": 3
   },
   "file_extension": ".py",
   "mimetype": "text/x-python",
   "name": "python",
   "nbconvert_exporter": "python",
   "pygments_lexer": "ipython3",
   "version": "3.8.5"
  }
 },
 "nbformat": 4,
 "nbformat_minor": 1
}
